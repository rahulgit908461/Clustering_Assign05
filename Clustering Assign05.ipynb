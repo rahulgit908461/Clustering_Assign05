{
 "cells": [
  {
   "cell_type": "code",
   "execution_count": 1,
   "id": "ded1ce6d-061c-4c04-8c3c-a5e38b87c007",
   "metadata": {},
   "outputs": [],
   "source": [
    "#Q1. What is a contingency matrix, and how is it used to evaluate the performance of a classification model?"
   ]
  },
  {
   "cell_type": "code",
   "execution_count": 2,
   "id": "88d05bd4-938e-4948-b4ff-f3d267739511",
   "metadata": {},
   "outputs": [],
   "source": [
    "#In statistics, a contingency table (also known as a cross tabulation or crosstab) is a type of table in a matrix\n",
    "#format that displays the (multivariate) frequency distribution of the variables. They are heavily used in survey\n",
    "#research, business intelligence, engineering, and scientific research.\n",
    "\n",
    "#Precision (Positive Predicted Value)\n",
    "#Recall (Sensitivity, True Positive Rate)\n",
    "#Specificity (Selectivity, True Negative Rate)\n",
    "#Fall-out (False Positive Rate)\n",
    "#Miss Rate (False Negative Rate)\n",
    "#Receiver-Operator Curve (ROC Curve) and Area Under the Curve (AUC)"
   ]
  },
  {
   "cell_type": "code",
   "execution_count": 3,
   "id": "144fb3b5-fdc7-4a0e-84b7-0e6056e8c9b1",
   "metadata": {},
   "outputs": [],
   "source": [
    "#Q2. How is a pair confusion matrix different from a regular confusion matrix, and why might it be useful in\n",
    "#certain situations?"
   ]
  },
  {
   "cell_type": "code",
   "execution_count": 4,
   "id": "fc91da1b-288f-453b-8eca-d88c7531cd16",
   "metadata": {},
   "outputs": [],
   "source": [
    "#A confusion matrix is a table that allows you to visualize the performance of a classification model. You can also \n",
    "#use the information in it to calculate measures that can help you determine the usefulness of the model.\n",
    "#Rows represent predicted classifications, while columns represent the true classes from the data."
   ]
  },
  {
   "cell_type": "code",
   "execution_count": 5,
   "id": "edf57696-ebda-4f2b-966b-6dd3e530bf59",
   "metadata": {},
   "outputs": [],
   "source": [
    "#Q3. What is an extrinsic measure in the context of natural language processing, and how is it typically\n",
    "#used to evaluate the performance of language models?"
   ]
  },
  {
   "cell_type": "code",
   "execution_count": 7,
   "id": "73d69ce8-b221-4485-a3a6-112bba44013e",
   "metadata": {},
   "outputs": [],
   "source": [
    "#Intrinsic Evaluation — Focuses on intermediary objectives (i.e. the performance of an NLP component on a defined\n",
    "#subtask) Extrinsic Evaluation — Focuses on the performance of the final objective (i.e. the performance of the \n",
    "#component on the complete application)\n",
    "#In natural language processing, syntactic analysis is utilized to assess the way the natural language gets aligned \n",
    "#with the grammatical rules. Here, grammatical rules are applied by using computer algorithms to a group of words in \n",
    "#order to derive meaning from them."
   ]
  },
  {
   "cell_type": "code",
   "execution_count": 8,
   "id": "2d923b46-2077-4dd8-939e-c6782768cc65",
   "metadata": {},
   "outputs": [],
   "source": [
    "#Q4. What is an intrinsic measure in the context of machine learning, and how does it differ from an\n",
    "#extrinsic measure?"
   ]
  },
  {
   "cell_type": "code",
   "execution_count": 9,
   "id": "d90ae85e-131c-407d-8073-e7dfce734e0f",
   "metadata": {},
   "outputs": [],
   "source": [
    "#There are two types of evaluation metrics for clustering, Extrinsic Measures: These measures require ground truth \n",
    "#labels, which may not be available in practice. Intrinsic Measures: These measures do not require ground truth\n",
    "#labels (applicable to all unsupervised learning results)"
   ]
  },
  {
   "cell_type": "code",
   "execution_count": 10,
   "id": "274b8fbe-e559-4209-9e89-b31504ad621b",
   "metadata": {},
   "outputs": [],
   "source": [
    "#Q5. What is the purpose of a confusion matrix in machine learning, and how can it be used to identify\n",
    "#strengths and weaknesses of a model?"
   ]
  },
  {
   "cell_type": "code",
   "execution_count": 11,
   "id": "c73f174a-557d-4d49-bd37-dd8e987379e4",
   "metadata": {},
   "outputs": [],
   "source": [
    "#A confusion matrix represents the prediction summary in matrix form. It shows how many prediction are correct and\n",
    "#incorrect per class. It helps in understanding the classes that are being confused by model as other class.\n",
    "#A confusion matrix is a table that allows you to visualize the performance of a classification model.\n",
    "#You can also use the information in it to calculate measures that can help you determine the usefulness of the \n",
    "#model. Rows represent predicted classifications, while columns represent the true classes from the data."
   ]
  },
  {
   "cell_type": "code",
   "execution_count": 12,
   "id": "3ed856af-1abc-4962-b52b-97d843d39f18",
   "metadata": {},
   "outputs": [],
   "source": [
    "#Q6. What are some common intrinsic measures used to evaluate the performance of unsupervised\n",
    "#learning algorithms, and how can they be interpreted?"
   ]
  },
  {
   "cell_type": "code",
   "execution_count": 14,
   "id": "0761f25c-70ce-4e48-b77e-694d1e543688",
   "metadata": {},
   "outputs": [],
   "source": [
    "#Graph-based clustering performance can easily be improved by applying ICA blind source separation during the \n",
    "#graph Laplacian embedding step. Applying unsupervised feature learning to input data using either RICA or SFT,\n",
    "#improves clustering performance.\n",
    "#Types of Unsupervised Learning Algorithms\n",
    "#K-means Clustering.\n",
    "#Hierarchical Clustering.\n",
    "#Anomaly Detection.\n",
    "#Principal Component Analysis.\n",
    "#Apriori Algorithm."
   ]
  },
  {
   "cell_type": "code",
   "execution_count": 15,
   "id": "5eea5f78-9144-4c4f-beb7-d3f11da3cd23",
   "metadata": {},
   "outputs": [],
   "source": [
    "#Q7. What are some limitations of using accuracy as a sole evaluation metric for classification tasks, and\n",
    "#how can these limitations be addressed?"
   ]
  },
  {
   "cell_type": "code",
   "execution_count": 16,
   "id": "9d6870ab-a9b8-4ad2-b6ef-8310ce4018d4",
   "metadata": {},
   "outputs": [],
   "source": [
    "#Classification accuracy is ratio of correct predictions to total predictions made. \n",
    "#Classification accuracy can be represented to error rate or misclassification rate. \n",
    "#Classification accuracy can hide the details about the model."
   ]
  },
  {
   "cell_type": "code",
   "execution_count": null,
   "id": "6ce83cd5-1913-4f14-ab25-4051e110907d",
   "metadata": {},
   "outputs": [],
   "source": []
  }
 ],
 "metadata": {
  "kernelspec": {
   "display_name": "Python 3 (ipykernel)",
   "language": "python",
   "name": "python3"
  },
  "language_info": {
   "codemirror_mode": {
    "name": "ipython",
    "version": 3
   },
   "file_extension": ".py",
   "mimetype": "text/x-python",
   "name": "python",
   "nbconvert_exporter": "python",
   "pygments_lexer": "ipython3",
   "version": "3.10.8"
  }
 },
 "nbformat": 4,
 "nbformat_minor": 5
}
